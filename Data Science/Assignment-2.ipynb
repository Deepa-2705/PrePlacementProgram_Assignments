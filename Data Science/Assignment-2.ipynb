{
 "cells": [
  {
   "cell_type": "markdown",
   "id": "304dabf0-52f8-4a0a-a2a6-2e9732598122",
   "metadata": {},
   "source": [
    "1. Scenario: A company wants to analyze the sales performance of its products in different regions. They have collected the following data:\n",
    "\n",
    "   Region A: [10, 15, 12, 8, 14]\n",
    "   \n",
    "   Region B: [18, 20, 16, 22, 25]\n",
    "   \n",
    "   Calculate the mean sales for each region."
   ]
  },
  {
   "cell_type": "code",
   "execution_count": 1,
   "id": "70bd34dc-2386-4e11-ba60-8e851d59378a",
   "metadata": {},
   "outputs": [],
   "source": [
    "Region_A=[10, 15, 12, 8, 14]"
   ]
  },
  {
   "cell_type": "code",
   "execution_count": 2,
   "id": "e045810a-4cdf-49cd-8ab8-32f594040c0e",
   "metadata": {},
   "outputs": [],
   "source": [
    "Region_B=[18, 20, 16, 22, 25]"
   ]
  },
  {
   "cell_type": "code",
   "execution_count": 3,
   "id": "dba251d5-1add-4def-873d-373f2ec3ca85",
   "metadata": {},
   "outputs": [],
   "source": [
    "import numpy as np"
   ]
  },
  {
   "cell_type": "code",
   "execution_count": 4,
   "id": "231dc7c2-e141-4188-9d34-cd2a041a14bc",
   "metadata": {},
   "outputs": [
    {
     "data": {
      "text/plain": [
       "11.8"
      ]
     },
     "execution_count": 4,
     "metadata": {},
     "output_type": "execute_result"
    }
   ],
   "source": [
    "np.mean(Region_A)"
   ]
  },
  {
   "cell_type": "code",
   "execution_count": 5,
   "id": "3edc6a3f-9c85-4d47-ab62-cd2c1930b1a1",
   "metadata": {},
   "outputs": [
    {
     "data": {
      "text/plain": [
       "20.2"
      ]
     },
     "execution_count": 5,
     "metadata": {},
     "output_type": "execute_result"
    }
   ],
   "source": [
    "np.mean(Region_B)"
   ]
  },
  {
   "cell_type": "markdown",
   "id": "cc46a8c0-6d18-4685-923e-d66e84473395",
   "metadata": {},
   "source": [
    "2. Scenario: A survey is conducted to measure customer satisfaction on a scale of 1 to 5. The data collected is as follows:\n",
    "\n",
    "   [4, 5, 2, 3, 5, 4, 3, 2, 4, 5]\n",
    "   \n",
    "   Calculate the mode of the survey responses."
   ]
  },
  {
   "cell_type": "code",
   "execution_count": 6,
   "id": "395c494d-7662-4703-8645-f0665b709112",
   "metadata": {},
   "outputs": [],
   "source": [
    "survey=[4, 5, 2, 3, 5, 4, 3, 2, 4, 5]"
   ]
  },
  {
   "cell_type": "code",
   "execution_count": 8,
   "id": "1b778823-a8be-4be8-aff8-fa262c56114c",
   "metadata": {},
   "outputs": [],
   "source": [
    "from scipy import stats"
   ]
  },
  {
   "cell_type": "code",
   "execution_count": 9,
   "id": "1fdd7300-e64f-4b3d-a74e-c785727edbb3",
   "metadata": {},
   "outputs": [
    {
     "name": "stderr",
     "output_type": "stream",
     "text": [
      "/tmp/ipykernel_95/2868874993.py:1: FutureWarning: Unlike other reduction functions (e.g. `skew`, `kurtosis`), the default behavior of `mode` typically preserves the axis it acts along. In SciPy 1.11.0, this behavior will change: the default value of `keepdims` will become False, the `axis` over which the statistic is taken will be eliminated, and the value None will no longer be accepted. Set `keepdims` to True or False to avoid this warning.\n",
      "  stats.mode(survey)\n"
     ]
    },
    {
     "data": {
      "text/plain": [
       "ModeResult(mode=array([4]), count=array([3]))"
      ]
     },
     "execution_count": 9,
     "metadata": {},
     "output_type": "execute_result"
    }
   ],
   "source": [
    "stats.mode(survey)"
   ]
  },
  {
   "cell_type": "markdown",
   "id": "3bdaafcc-2801-4a80-9e90-fcac22ad13e7",
   "metadata": {},
   "source": [
    "3. Scenario: A company wants to compare the salaries of two departments. The salary data for Department A and Department B are as follows:\n",
    "\n",
    "   Department A: [5000, 6000, 5500, 7000]\n",
    "   \n",
    "   Department B: [4500, 5500, 5800, 6000, 5200]\n",
    "   \n",
    "   Calculate the median salary for each department."
   ]
  },
  {
   "cell_type": "code",
   "execution_count": 12,
   "id": "89e8de60-3231-401e-83e2-628dcbf7d288",
   "metadata": {},
   "outputs": [],
   "source": [
    "Department_A= [5000, 6000, 5500, 7000]"
   ]
  },
  {
   "cell_type": "code",
   "execution_count": 11,
   "id": "0907d0fa-95ef-43f1-88ea-66b21c157c2f",
   "metadata": {},
   "outputs": [],
   "source": [
    "Department_B= [4500, 5500, 5800, 6000, 5200]"
   ]
  },
  {
   "cell_type": "code",
   "execution_count": 13,
   "id": "b6c0d753-5539-4d39-a856-986684e98da3",
   "metadata": {},
   "outputs": [
    {
     "data": {
      "text/plain": [
       "5750.0"
      ]
     },
     "execution_count": 13,
     "metadata": {},
     "output_type": "execute_result"
    }
   ],
   "source": [
    "np.median(Department_A)"
   ]
  },
  {
   "cell_type": "code",
   "execution_count": 14,
   "id": "816e182e-83c0-47a9-bef5-7fd77b3d6e22",
   "metadata": {},
   "outputs": [
    {
     "data": {
      "text/plain": [
       "5500.0"
      ]
     },
     "execution_count": 14,
     "metadata": {},
     "output_type": "execute_result"
    }
   ],
   "source": [
    "np.median(Department_B)"
   ]
  },
  {
   "cell_type": "markdown",
   "id": "95318e25-834b-4d95-9af7-df1a138efafa",
   "metadata": {},
   "source": [
    "4. Scenario: A data analyst wants to determine the variability in the daily stock prices of a company. The data collected is as follows:\n",
    "\n",
    "   [25.5, 24.8, 26.1, 25.3, 24.9]\n",
    "   \n",
    "   Calculate the range of the stock prices."
   ]
  },
  {
   "cell_type": "code",
   "execution_count": 15,
   "id": "eeb4dbef-63af-4698-8e74-87a097e8aa15",
   "metadata": {},
   "outputs": [],
   "source": [
    "stock_price=[25.5, 24.8, 26.1, 25.3, 24.9]"
   ]
  },
  {
   "cell_type": "code",
   "execution_count": 21,
   "id": "1424cd0a-a3dc-4a8d-96ab-39c09437f318",
   "metadata": {},
   "outputs": [],
   "source": [
    "maxi=np.max(stock_price)"
   ]
  },
  {
   "cell_type": "code",
   "execution_count": 20,
   "id": "831099aa-7720-4d26-9687-8a0847024c26",
   "metadata": {},
   "outputs": [],
   "source": [
    "mini=np.min(stock_price)"
   ]
  },
  {
   "cell_type": "code",
   "execution_count": 23,
   "id": "b1b70958-bdc8-40d9-b0df-40152c5cfd76",
   "metadata": {},
   "outputs": [],
   "source": [
    "range1=maxi-mini"
   ]
  },
  {
   "cell_type": "code",
   "execution_count": 24,
   "id": "12ab42bc-b9a2-4bbe-afc8-912f37b69d6e",
   "metadata": {},
   "outputs": [
    {
     "data": {
      "text/plain": [
       "1.3000000000000007"
      ]
     },
     "execution_count": 24,
     "metadata": {},
     "output_type": "execute_result"
    }
   ],
   "source": [
    "range1"
   ]
  },
  {
   "cell_type": "markdown",
   "id": "e3d89f8e-0d31-4719-808f-013cc135659c",
   "metadata": {},
   "source": [
    "5. Scenario: A study is conducted to compare the performance of two different teaching methods. The test scores of the students in each group are as follows:\n",
    "\n",
    "   Group A: [85, 90, 92, 88, 91]\n",
    "   \n",
    "   Group B: [82, 88, 90, 86, 87]\n",
    "   \n",
    "   Perform a t-test to determine if there is a significant difference in the mean scores between the two groups.\n"
   ]
  },
  {
   "cell_type": "code",
   "execution_count": 3,
   "id": "1ecfb8b6-2d3f-4978-bbbd-5eca3f1b525a",
   "metadata": {},
   "outputs": [
    {
     "name": "stdout",
     "output_type": "stream",
     "text": [
      "               T       dof alternative     p-val          CI95%   cohen-d  \\\n",
      "T-test  1.431253  7.964602   two-sided  0.190403  [-1.59, 6.79]  0.905204   \n",
      "\n",
      "         BF10     power  \n",
      "T-test  0.882  0.243618  \n"
     ]
    }
   ],
   "source": [
    "from statsmodels.stats.weightstats import ttest_ind\n",
    "import numpy as np\n",
    "import pingouin as pg\n",
    "\n",
    "# Creating data groups\n",
    "Group_A= [85, 90, 92, 88, 91]\n",
    "Group_B= [82, 88, 90, 86, 87]\n",
    "\n",
    "# Conducting two-sample ttest\n",
    "result = pg.ttest(Group_A,\n",
    "\t\t\t\tGroup_B,\n",
    "\t\t\t\tcorrection=True)\n",
    "\n",
    "# Print the result\n",
    "print(result)\n"
   ]
  },
  {
   "cell_type": "markdown",
   "id": "e61f6f9b-aa2c-49a6-a0f3-14d72b81167e",
   "metadata": {},
   "source": [
    "The p-value of the test comes out to be equal to 0.1904, which is greater than the significance level alpha (that is, 0.05). This implies that we can say that the mean test  scores of students in one teaching method is statistically not different from the test score of students in another teachinng method."
   ]
  },
  {
   "cell_type": "markdown",
   "id": "9ff32601-b9f9-4c5d-9d08-1be609ed91d9",
   "metadata": {},
   "source": [
    "6. Scenario: A company wants to analyze the relationship between advertising expenditure and sales. The data collected is as follows:\n",
    "\n",
    "   Advertising Expenditure (in thousands): [10, 15, 12, 8, 14]\n",
    "   \n",
    "   Sales (in thousands): [25, 30, 28, 20, 26]\n",
    "   \n",
    "   Calculate the correlation coefficient between advertising expenditure and sales."
   ]
  },
  {
   "cell_type": "code",
   "execution_count": 4,
   "id": "38777d7b-0505-4e5c-82d6-60e89ec3f52c",
   "metadata": {},
   "outputs": [],
   "source": [
    "Advertising_Expend= [10, 15, 12, 8, 14]"
   ]
  },
  {
   "cell_type": "code",
   "execution_count": 5,
   "id": "b5cd0a23-68f8-4321-8bbf-d2a5bfb6c692",
   "metadata": {},
   "outputs": [],
   "source": [
    "Sales= [25, 30, 28, 20, 26]"
   ]
  },
  {
   "cell_type": "code",
   "execution_count": 7,
   "id": "a8e2740c-7309-4ad1-bfdc-864857a40b0c",
   "metadata": {},
   "outputs": [
    {
     "data": {
      "text/plain": [
       "0.8757511375750132"
      ]
     },
     "execution_count": 7,
     "metadata": {},
     "output_type": "execute_result"
    }
   ],
   "source": [
    "import numpy as np\n",
    "np.corrcoef(Advertising_Expend, Sales) [0,1]   #Positive correlation"
   ]
  },
  {
   "cell_type": "markdown",
   "id": "ece44e97-9c2e-4320-9ee9-8a8a29c397b9",
   "metadata": {},
   "source": [
    "7. Scenario: A survey is conducted to measure the heights of a group of people. The data collected is as follows:\n",
    "\n",
    "   [160, 170, 165, 155, 175, 180, 170]\n",
    "   \n",
    "   Calculate the standard deviation of the heights."
   ]
  },
  {
   "cell_type": "code",
   "execution_count": 8,
   "id": "1ed6b0c2-9b31-452e-bf16-107c9d72bff6",
   "metadata": {},
   "outputs": [],
   "source": [
    "data = [160, 170, 165, 155, 175, 180, 170]"
   ]
  },
  {
   "cell_type": "code",
   "execution_count": 10,
   "id": "c91d0e95-4d8e-4ab8-9d78-b106ae5aaa06",
   "metadata": {},
   "outputs": [],
   "source": [
    "import pandas as pd\n",
    "df=pd.DataFrame(data)"
   ]
  },
  {
   "cell_type": "code",
   "execution_count": 11,
   "id": "4e35b7a1-9eed-4545-a484-ab358eb9c9e4",
   "metadata": {},
   "outputs": [
    {
     "data": {
      "text/plain": [
       "0    8.591247\n",
       "dtype: float64"
      ]
     },
     "execution_count": 11,
     "metadata": {},
     "output_type": "execute_result"
    }
   ],
   "source": [
    "df.std()"
   ]
  },
  {
   "cell_type": "markdown",
   "id": "14414d01-50cb-477f-bc6a-b0763b8ecba2",
   "metadata": {},
   "source": [
    "8. Scenario: A company wants to analyze the relationship between employee tenure and job satisfaction. The data collected is as follows:\n",
    "\n",
    "   Employee Tenure (in years): [2, 3, 5, 4, 6, 2, 4]\n",
    "   \n",
    "   Job Satisfaction (on a scale of 1 to 10): [7, 8, 6, 9, 5, 7, 6]\n",
    "   \n",
    "   Perform a linear regression analysis to predict job satisfaction based on employee tenure.\n"
   ]
  },
  {
   "cell_type": "code",
   "execution_count": 12,
   "id": "d882ff4b-d55e-458b-98f2-a4cc8992d28b",
   "metadata": {},
   "outputs": [],
   "source": [
    "Employee_Tenure= [2, 3, 5, 4, 6, 2, 4]"
   ]
  },
  {
   "cell_type": "code",
   "execution_count": 13,
   "id": "71dcb80f-34a8-41e5-bfc5-fa72876e9b73",
   "metadata": {},
   "outputs": [],
   "source": [
    "Job_Satisfaction= [7, 8, 6, 9, 5, 7, 6]"
   ]
  },
  {
   "cell_type": "code",
   "execution_count": 26,
   "id": "d0866d06-a9fc-4064-8660-ed7fbeb26c65",
   "metadata": {},
   "outputs": [
    {
     "data": {
      "image/png": "[encoded data removed]",
      "text/plain": [
       "<Figure size 640x480 with 1 Axes>"
      ]
     },
     "metadata": {},
     "output_type": "display_data"
    }
   ],
   "source": [
    "import matplotlib.pyplot as plt\n",
    "from scipy import stats\n",
    "\n",
    "slope, intercept, r, p, std_err = stats.linregress(Employee_Tenure, Job_Satisfaction)\n",
    "\n",
    "def myfunc(Employee_Tenure):\n",
    "    return slope * Employee_Tenure + intercept\n",
    "\n",
    "mymodel = list(map(myfunc, Employee_Tenure))\n",
    "\n",
    "plt.scatter(Employee_Tenure, Job_Satisfaction)\n",
    "plt.plot(Employee_Tenure, mymodel)\n",
    "plt.show()"
   ]
  },
  {
   "cell_type": "markdown",
   "id": "c77b6b84-a8fc-4706-adea-2950f488613e",
   "metadata": {},
   "source": [
    "9. Scenario: A study is conducted to compare the effectiveness of two different medications. The recovery times of the patients in each group are as follows:\n",
    "\n",
    "   Medication A: [10, 12, 14, 11, 13]\n",
    "   \n",
    "   Medication B: [15, 17, 16, 14, 18]\n",
    "   \n",
    "   Perform an analysis of variance (ANOVA) to determine if there is a significant difference in the mean recovery times between the two medications."
   ]
  },
  {
   "cell_type": "code",
   "execution_count": 1,
   "id": "00131d6d-1fa3-4060-ab5b-2e8a3de36bba",
   "metadata": {},
   "outputs": [],
   "source": [
    "Medication_A= [10, 12, 14, 11, 13]"
   ]
  },
  {
   "cell_type": "code",
   "execution_count": 2,
   "id": "47bc2b0f-dbaf-43d4-ba6c-3febb2797ddb",
   "metadata": {},
   "outputs": [],
   "source": [
    "Medication_B= [15, 17, 16, 14, 18]"
   ]
  },
  {
   "cell_type": "code",
   "execution_count": 3,
   "id": "a182e677-81b2-4908-886a-b9210615dba2",
   "metadata": {},
   "outputs": [
    {
     "data": {
      "text/plain": [
       "F_onewayResult(statistic=16.0, pvalue=0.003949772803445326)"
      ]
     },
     "execution_count": 3,
     "metadata": {},
     "output_type": "execute_result"
    }
   ],
   "source": [
    "# Importing library\n",
    "from scipy.stats import f_oneway\n",
    "f_oneway(Medication_A, Medication_B)"
   ]
  },
  {
   "cell_type": "markdown",
   "id": "f8f59c6b-d191-4c86-9676-3c54c6daea24",
   "metadata": {},
   "source": [
    "The F statistic and p-value turn out to be equal to 16.0 and 0.003949 respectively. Since the p-value is less than 0.05 hence we would reject the null hypothesis. This implies that we have sufficient proof to say that there is a significant difference in the mean recovery times between the two medications."
   ]
  },
  {
   "cell_type": "markdown",
   "id": "61b1c6be-057d-4e1d-a62c-2af1ef1aecef",
   "metadata": {},
   "source": [
    "10. Scenario: A company wants to analyze customer feedback ratings on a scale of 1 to 10. The data collected is as follows:\n",
    "\n",
    "    [8, 9, 7, 6, 8, 10, 9, 8, 7, 8]\n",
    "    \n",
    "    Calculate the 75th percentile of the feedback ratings."
   ]
  },
  {
   "cell_type": "code",
   "execution_count": 5,
   "id": "1db7fdbf-77bc-4c69-9c45-81efcb6b53cc",
   "metadata": {},
   "outputs": [],
   "source": [
    "data=[8, 9, 7, 6, 8, 10, 9, 8, 7, 8]"
   ]
  },
  {
   "cell_type": "code",
   "execution_count": 6,
   "id": "4ce7a350-5a2f-4b18-95df-15c2995ce096",
   "metadata": {},
   "outputs": [
    {
     "name": "stdout",
     "output_type": "stream",
     "text": [
      "75th percentile of data :  8.75\n"
     ]
    }
   ],
   "source": [
    "import numpy as np\n",
    "print(\"75th percentile of data : \", np.percentile(data, 75))"
   ]
  },
  {
   "cell_type": "markdown",
   "id": "532c1ab1-8e38-427f-bddf-4866bf1b8cdf",
   "metadata": {},
   "source": [
    "11. Scenario: A quality control department wants to test the weight consistency of a product. The weights of a sample of products are as follows:\n",
    "\n",
    "    [10.2, 9.8, 10.0, 10.5, 10.3, 10.\n",
    "    1]\n",
    "    \n",
    "    Perform a hypothesis test to determine if the mean weight differs significantly from 10 grams."
   ]
  },
  {
   "cell_type": "code",
   "execution_count": 7,
   "id": "455fb002-572a-424a-b6f5-265ddb8f73af",
   "metadata": {},
   "outputs": [],
   "source": [
    "data=[10.2, 9.8, 10.0, 10.5, 10.3, 10.1]"
   ]
  },
  {
   "cell_type": "code",
   "execution_count": 10,
   "id": "78bfc06e-6b9e-4c71-b9b3-dc5c500a86b3",
   "metadata": {},
   "outputs": [],
   "source": [
    "from scipy.stats import ttest_1samp  \n",
    "import numpy as np   "
   ]
  },
  {
   "cell_type": "code",
   "execution_count": 12,
   "id": "d57fdbee-6ccb-48c5-b0ec-1c37a24d5002",
   "metadata": {},
   "outputs": [
    {
     "name": "stdout",
     "output_type": "stream",
     "text": [
      "P-value is:  0.19077595151110102\n",
      "We can accept the null hypothesis\n"
     ]
    }
   ],
   "source": [
    "t_test, p_val = ttest_1samp(data, 10)\n",
    "print(\"P-value is: \", p_val)  \n",
    "  \n",
    "# taking the threshold value as 0.05 or 5%  \n",
    "if p_val < 0.05:      \n",
    "    print(\" We can reject the null hypothesis\")  \n",
    "else:  \n",
    "    print(\"We can accept the null hypothesis\")  "
   ]
  },
  {
   "cell_type": "markdown",
   "id": "0963fc1e-1410-4614-9e67-0cd707d859bf",
   "metadata": {},
   "source": [
    "12. Scenario: A company wants to analyze the click-through rates of two different website designs. The number of clicks for each design is as follows:\n",
    "\n",
    "    Design A: [100, 120, 110, 90, 95]\n",
    "    \n",
    "    Design B: [80, 85, 90, 95, 100]\n",
    "    \n",
    "    Perform a chi-square test to determine if there is a significant difference in the click-through rates between the two designs."
   ]
  },
  {
   "cell_type": "code",
   "execution_count": 13,
   "id": "2f0bcd4f-787e-45da-8e6a-2fddd052e498",
   "metadata": {},
   "outputs": [],
   "source": [
    "Design_A= [100, 120, 110, 90, 95]"
   ]
  },
  {
   "cell_type": "code",
   "execution_count": 14,
   "id": "add0650e-ebe8-4c12-9897-d773254271d6",
   "metadata": {},
   "outputs": [],
   "source": [
    "Design_B= [80, 85, 90, 95, 100]"
   ]
  },
  {
   "cell_type": "code",
   "execution_count": 15,
   "id": "978079b3-0c74-498e-999f-5f2c47fa4284",
   "metadata": {},
   "outputs": [
    {
     "name": "stdout",
     "output_type": "stream",
     "text": [
      "p value is 1.0\n",
      "Independent (H0 holds true)\n"
     ]
    }
   ],
   "source": [
    "from scipy.stats import chi2_contingency\n",
    "stat, p, dof, expected = chi2_contingency(Design_A,Design_B)\n",
    "\n",
    "# interpret p-value\n",
    "alpha = 0.05\n",
    "print(\"p value is \" + str(p))\n",
    "if p <= alpha:\n",
    "\tprint('Dependent (reject H0)')\n",
    "else:\n",
    "    \n",
    "\tprint('Independent (H0 holds true)')\n"
   ]
  },
  {
   "cell_type": "markdown",
   "id": "b011654f-d4b0-4213-a35c-45c59d8aeff8",
   "metadata": {},
   "source": [
    "13. Scenario: A survey is conducted to measure customer satisfaction with a product on a scale of 1 to 10. The data collected is as follows:\n",
    "\n",
    "    [7, 9, 6, 8, 10, 7, 8, 9, 7, 8]\n",
    "    \n",
    "    Calculate the 95% confidence interval for the population mean satisfaction score."
   ]
  },
  {
   "cell_type": "code",
   "execution_count": 16,
   "id": "5948ffd8-4dc3-4961-af28-576c8b6a7480",
   "metadata": {},
   "outputs": [],
   "source": [
    "data=[7, 9, 6, 8, 10, 7, 8, 9, 7, 8]"
   ]
  },
  {
   "cell_type": "code",
   "execution_count": 20,
   "id": "9518f3eb-0b48-4fd5-a662-75602c962a98",
   "metadata": {},
   "outputs": [
    {
     "data": {
      "text/plain": [
       "(7.043561120599888, 8.756438879400113)"
      ]
     },
     "execution_count": 20,
     "metadata": {},
     "output_type": "execute_result"
    }
   ],
   "source": [
    "import numpy as np\n",
    "import scipy.stats as st\n",
    "\n",
    "# create 95% confidence interval\n",
    "st.t.interval(confidence=0.95, df=len(data)-1,\n",
    "\t\t\tloc=np.mean(data),\n",
    "\t\t\tscale=st.sem(data))\n"
   ]
  },
  {
   "cell_type": "markdown",
   "id": "b3b36dea-cdf7-4bde-9cd2-6d51919fe549",
   "metadata": {},
   "source": [
    "14. Scenario: A company wants to analyze the effect of temperature on product performance. The data collected is as follows:\n",
    "\n",
    "    Temperature (in degrees Celsius): [20, 22, 23, 19, 21]\n",
    "    \n",
    "    Performance (on a scale of 1 to 10): [8, 7, 9, 6, 8]\n",
    "    \n",
    "    Perform a simple linear regression to predict performance based on temperature."
   ]
  },
  {
   "cell_type": "code",
   "execution_count": 21,
   "id": "a39554f7-aff5-448a-bbaa-a69dc1e866e3",
   "metadata": {},
   "outputs": [],
   "source": [
    "Temp=[20, 22, 23, 19, 21]"
   ]
  },
  {
   "cell_type": "code",
   "execution_count": 22,
   "id": "b8cdf3ef-8798-4f2e-abc5-b3953c6105e9",
   "metadata": {},
   "outputs": [],
   "source": [
    "Performance=[8, 7, 9, 6, 8]"
   ]
  },
  {
   "cell_type": "code",
   "execution_count": 28,
   "id": "5cab630b-6c92-4581-a1f9-c7863b6cb2ae",
   "metadata": {},
   "outputs": [
    {
     "data": {
      "image/png": "[encoded data removed]",
      "text/plain": [
       "<Figure size 640x480 with 1 Axes>"
      ]
     },
     "metadata": {},
     "output_type": "display_data"
    }
   ],
   "source": [
    "import matplotlib.pyplot as plt\n",
    "from scipy import stats\n",
    "\n",
    "slope, intercept, r, p, std_err = stats.linregress(Temp, Performance)\n",
    "\n",
    "def myfunc(Temp):\n",
    "    return slope * Temp + intercept\n",
    "\n",
    "mymodel = list(map(myfunc, Temp))\n",
    "\n",
    "plt.scatter(Temp, Performance)\n",
    "plt.plot(Temp, mymodel)\n",
    "plt.show()\n"
   ]
  },
  {
   "cell_type": "markdown",
   "id": "304f9149-f809-4c7b-b97e-4abd6f5de0fa",
   "metadata": {},
   "source": [
    "15. Scenario: A study is conducted to compare the preferences of two groups of participants. The preferences are measured on a Likert scale from 1 to 5. The data collected is as follows:\n",
    "\n",
    "    Group A: [4, 3, 5, 2, 4]\n",
    "    \n",
    "    Group B: [3, 2, 4, 3, 3]\n",
    "    \n",
    "    Perform a Mann-Whitney U test to determine if there is a significant difference in the median preferences between the two groups."
   ]
  },
  {
   "cell_type": "code",
   "execution_count": 30,
   "id": "f31b37aa-5da6-46b4-bfb2-ac9200aa80b1",
   "metadata": {},
   "outputs": [],
   "source": [
    "Group_A= [4, 3, 5, 2, 4]"
   ]
  },
  {
   "cell_type": "code",
   "execution_count": 29,
   "id": "f7ad9c15-29d2-4398-b4c4-7438c837bc41",
   "metadata": {},
   "outputs": [],
   "source": [
    "Group_B= [3, 2, 4, 3, 3]"
   ]
  },
  {
   "cell_type": "code",
   "execution_count": 31,
   "id": "45f7da6b-7fe9-4bed-bf5e-3a346b464067",
   "metadata": {},
   "outputs": [
    {
     "name": "stdout",
     "output_type": "stream",
     "text": [
      "Statistics=17.00, p=0.38\n",
      "Do not Reject Null Hypothesis (No significant difference between two samples)\n"
     ]
    }
   ],
   "source": [
    "from scipy.stats import mannwhitneyu\n",
    "\n",
    "stat, p_value = mannwhitneyu(Group_A, Group_B)\n",
    "print('Statistics=%.2f, p=%.2f' % (stat, p_value))\n",
    "# Level of significance\n",
    "alpha = 0.05\n",
    "# conclusion\n",
    "if p_value < alpha:\n",
    "\tprint('Reject Null Hypothesis (Significant difference between two samples)')\n",
    "else:\n",
    "\tprint('Do not Reject Null Hypothesis (No significant difference between two samples)')\n"
   ]
  },
  {
   "cell_type": "markdown",
   "id": "e71b0048-7ff7-4284-9224-1913c6e97ebd",
   "metadata": {},
   "source": [
    "16. Scenario: A company wants to analyze the distribution of customer ages. The data collected is as follows:\n",
    "\n",
    "    [25, 30, 35, 40, 45, 50, 55, 60, 65, 70]\n",
    "    \n",
    "    Calculate the interquartile range (IQR) of the ages."
   ]
  },
  {
   "cell_type": "code",
   "execution_count": 33,
   "id": "d2b5fbbb-335a-4501-9389-9a8374ca7722",
   "metadata": {},
   "outputs": [],
   "source": [
    "data=[25, 30, 35, 40, 45, 50, 55, 60, 65, 70]"
   ]
  },
  {
   "cell_type": "code",
   "execution_count": 35,
   "id": "2cde1962-ed5a-4ef8-b5cf-c0ca715fe603",
   "metadata": {},
   "outputs": [
    {
     "name": "stdout",
     "output_type": "stream",
     "text": [
      "25.0\n"
     ]
    }
   ],
   "source": [
    "import numpy as np\n",
    "# First quartile (Q1)\n",
    "Q1 = np.median(data[:5])\n",
    "\n",
    "# Third quartile (Q3)\n",
    "Q3 = np.median(data[5:])\n",
    "\n",
    "# Interquartile range (IQR)\n",
    "IQR = Q3 - Q1\n",
    "\n",
    "print(IQR)"
   ]
  },
  {
   "cell_type": "markdown",
   "id": "aedf297c-99f0-428d-9901-01702562c718",
   "metadata": {},
   "source": [
    "17. Scenario: A study is conducted to compare the performance of three different machine learning algorithms. The accuracy scores for each algorithm are as follows:\n",
    "\n",
    "    Algorithm A: [0.85, 0.80, 0.82, 0.87, 0.83]\n",
    "    \n",
    "    Algorithm B: [0.78, 0.82, 0.84, 0.80, 0.79]\n",
    "    \n",
    "    Algorithm C: [0.90, 0.88, 0.89, 0.86, 0.87]\n",
    "    \n",
    "    Perform a Kruskal-Wallis test to determine if there is a significant difference in the median accuracy scores between the algorithms."
   ]
  },
  {
   "cell_type": "code",
   "execution_count": 36,
   "id": "d9b05318-bbc9-45c6-9393-c7c0f0347280",
   "metadata": {},
   "outputs": [],
   "source": [
    "Algorithm_A= [0.85, 0.80, 0.82, 0.87, 0.83]"
   ]
  },
  {
   "cell_type": "code",
   "execution_count": 37,
   "id": "94498902-1891-4ac0-9170-68b1a8f2f019",
   "metadata": {},
   "outputs": [],
   "source": [
    "Algorithm_B= [0.78, 0.82, 0.84, 0.80, 0.79]"
   ]
  },
  {
   "cell_type": "code",
   "execution_count": 38,
   "id": "f72a4d33-2c71-41b8-89ea-8af784285a62",
   "metadata": {},
   "outputs": [],
   "source": [
    "Algorithm_C= [0.90, 0.88, 0.89, 0.86, 0.87]"
   ]
  },
  {
   "cell_type": "code",
   "execution_count": 39,
   "id": "89cdef79-d9a9-425d-b993-f37f8ebfb319",
   "metadata": {},
   "outputs": [
    {
     "name": "stdout",
     "output_type": "stream",
     "text": [
      "KruskalResult(statistic=9.696947935368053, pvalue=0.007840333026249539)\n"
     ]
    }
   ],
   "source": [
    "from scipy import stats\n",
    "# Conduct the Kruskal-Wallis Test\n",
    "result = stats.kruskal(Algorithm_A,Algorithm_B,Algorithm_C)\n",
    "# Print the result\n",
    "print(result)\n"
   ]
  },
  {
   "cell_type": "markdown",
   "id": "f6cecc5d-1fff-471f-b30d-83e4c3ebb1e9",
   "metadata": {},
   "source": [
    "18. Scenario: A company wants to analyze the effect of price on sales. The data collected is as follows:\n",
    "\n",
    "    Price (in dollars): [10, 15, 12, 8, 14]\n",
    "    \n",
    "    Sales: [100, 80, 90, 110, 95]\n",
    "    \n",
    "    Perform a simple linear regression to predict sales based on price."
   ]
  },
  {
   "cell_type": "code",
   "execution_count": 40,
   "id": "a7df7c8d-4bcf-4518-b6a6-27242cf0b5bc",
   "metadata": {},
   "outputs": [],
   "source": [
    "Price=[10, 15, 12, 8, 14]"
   ]
  },
  {
   "cell_type": "code",
   "execution_count": 42,
   "id": "58ee9039-5757-4c8a-85ca-73c1e5d71d0e",
   "metadata": {},
   "outputs": [],
   "source": [
    "Sales=[100, 80, 90, 110, 95]"
   ]
  },
  {
   "cell_type": "code",
   "execution_count": 43,
   "id": "bfea34b3-44c4-49b1-b444-e6760b954298",
   "metadata": {},
   "outputs": [
    {
     "data": {
      "image/png": "[encoded data removed]",
      "text/plain": [
       "<Figure size 640x480 with 1 Axes>"
      ]
     },
     "metadata": {},
     "output_type": "display_data"
    }
   ],
   "source": [
    "import matplotlib.pyplot as plt\n",
    "from scipy import stats\n",
    "\n",
    "slope, intercept, r, p, std_err = stats.linregress(Price, Sales)\n",
    "\n",
    "def myfunc(Price):\n",
    "    return slope * Price + intercept\n",
    "\n",
    "mymodel = list(map(myfunc, Price))\n",
    "\n",
    "plt.scatter(Price, Sales)\n",
    "plt.plot(Price, mymodel)\n",
    "plt.show()"
   ]
  },
  {
   "cell_type": "markdown",
   "id": "86453a0b-63b8-4563-bf47-77107a2523a9",
   "metadata": {},
   "source": [
    "19. Scenario: A survey is conducted to measure the satisfaction levels of customers with a new product. The data collected is as follows:\n",
    "\n",
    "    [7, 8, 9, 6, 8, 7, 9, 7, 8, 7]\n",
    "    \n",
    "    Calculate the standard error of the mean satisfaction score."
   ]
  },
  {
   "cell_type": "code",
   "execution_count": 44,
   "id": "4a147280-1556-4bf9-93b8-633f13afcdbf",
   "metadata": {},
   "outputs": [],
   "source": [
    "data=[7, 8, 9, 6, 8, 7, 9, 7, 8, 7]"
   ]
  },
  {
   "cell_type": "code",
   "execution_count": 47,
   "id": "bd0c78d9-094a-4a87-8fe3-418235732cf7",
   "metadata": {},
   "outputs": [
    {
     "name": "stdout",
     "output_type": "stream",
     "text": [
      "Standard error:  0.30550504633038933\n"
     ]
    }
   ],
   "source": [
    "from scipy.stats import sem\n",
    "print(\"Standard error: \",sem(data))"
   ]
  },
  {
   "cell_type": "markdown",
   "id": "f09f0d10-4d4d-42e3-994c-1add7c7cddeb",
   "metadata": {},
   "source": [
    "20. Scenario: A company wants to analyze the relationship between advertising expenditure and sales. The data collected is as follows:\n",
    "\n",
    "    Advertising Expenditure (in thousands): [10, 15, 12, 8, 14]\n",
    "    \n",
    "    Sales (in thousands): [25, 300, 28, 20, 26]\n",
    "    \n",
    "    Perform a multiple regression analysis to predict sales based on advertising expenditure.\n"
   ]
  },
  {
   "cell_type": "code",
   "execution_count": null,
   "id": "04bda3fd-5475-4343-a6d0-7fc0b0ddef20",
   "metadata": {},
   "outputs": [],
   "source": [
    "Advertising_Expend=[10, 15, 12, 8, 14]"
   ]
  },
  {
   "cell_type": "code",
   "execution_count": 48,
   "id": "4c653305-e9ee-419d-a9e1-3cb4bac07830",
   "metadata": {},
   "outputs": [],
   "source": [
    "Sales=[25, 300, 28, 20, 26]"
   ]
  },
  {
   "cell_type": "code",
   "execution_count": 54,
   "id": "316350f3-1d3c-43ef-8252-91e7e6ab8c09",
   "metadata": {},
   "outputs": [
    {
     "data": {
      "image/png": "[encoded data removed]",
      "text/plain": [
       "<Figure size 640x480 with 1 Axes>"
      ]
     },
     "metadata": {},
     "output_type": "display_data"
    }
   ],
   "source": [
    "import numpy as np\n",
    "import matplotlib as mpl\n",
    "from mpl_toolkits.mplot3d import Axes3D\n",
    "import matplotlib.pyplot as plt\n",
    "\n",
    "mpl.rcParams['legend.fontsize'] = 12\n",
    "\n",
    "fig = plt.figure()\n",
    "ax = fig.add_subplot(projection ='3d')\n",
    "\n",
    "ax.scatter(Advertising_Expend, Advertising_Expend, Sales, label ='y', s = 5)\n",
    "ax.legend()\n",
    "ax.view_init(45, 0)\n",
    "\n",
    "plt.show()\n"
   ]
  }
 ],
 "metadata": {
  "kernelspec": {
   "display_name": "Python 3 (ipykernel)",
   "language": "python",
   "name": "python3"
  },
  "language_info": {
   "codemirror_mode": {
    "name": "ipython",
    "version": 3
   },
   "file_extension": ".py",
   "mimetype": "text/x-python",
   "name": "python",
   "nbconvert_exporter": "python",
   "pygments_lexer": "ipython3",
   "version": "3.10.8"
  }
 },
 "nbformat": 4,
 "nbformat_minor": 5
}
