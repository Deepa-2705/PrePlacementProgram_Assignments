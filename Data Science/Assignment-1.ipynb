{
 "cells": [
  {
   "cell_type": "markdown",
   "id": "c7ddec40-2f85-4e02-97c0-29cacbfbd320",
   "metadata": {},
   "source": [
    "1. Write a Python program to reverse a string without using any built-in string reversal functions.\n"
   ]
  },
  {
   "cell_type": "code",
   "execution_count": 3,
   "id": "57604d67-b310-487f-bab7-368103e793b1",
   "metadata": {},
   "outputs": [
    {
     "name": "stdout",
     "output_type": "stream",
     "text": [
      "The original string  is :  Hello World\n",
      "The reversed string(using reversed) is :  dlroW olleH\n"
     ]
    }
   ],
   "source": [
    "def reverse2(string):\n",
    "    string = [string[i] for i in range(len(string)-1, -1, -1)]\n",
    "    return \"\".join(string)\n",
    " \n",
    "s = \"Hello World\"\n",
    " \n",
    "print(\"The original string  is : \", s)\n",
    " \n",
    "print(\"The reversed string(using reversed) is : \", reverse2(s))"
   ]
  },
  {
   "cell_type": "markdown",
   "id": "9362267f-860f-4fdb-ba74-e6b12380f066",
   "metadata": {},
   "source": [
    "2. Implement a function to check if a given string is a palindrome.\n"
   ]
  },
  {
   "cell_type": "code",
   "execution_count": 25,
   "id": "55e4de2c-acd1-4ef5-8c5e-354f341ea378",
   "metadata": {},
   "outputs": [
    {
     "name": "stdout",
     "output_type": "stream",
     "text": [
      "Yes\n"
     ]
    }
   ],
   "source": [
    "# function to check string is\n",
    "# palindrome or not\n",
    "def isPalindrome(str):\n",
    "\n",
    "\t# Run loop from 0 to len/2\n",
    "\tfor i in range(0, int(len(str)/2)):\n",
    "\t\tif str[i] != str[len(str)-i-1]:\n",
    "\t\t\treturn False\n",
    "\treturn True\n",
    "\n",
    "# main function\n",
    "s = \"malayalam\"\n",
    "ans = isPalindrome(s)\n",
    "\n",
    "if (ans):\n",
    "\tprint(\"Yes\")\n",
    "else:\n",
    "\tprint(\"No\")\n"
   ]
  },
  {
   "cell_type": "markdown",
   "id": "ea6d1806-b1a5-4819-a588-248fdb84d866",
   "metadata": {},
   "source": [
    "3. Write a program to find the largest element in a given list.\n"
   ]
  },
  {
   "cell_type": "code",
   "execution_count": 27,
   "id": "6a429501-434b-40cc-8342-041cf6b2571b",
   "metadata": {},
   "outputs": [
    {
     "name": "stdout",
     "output_type": "stream",
     "text": [
      "Largest element is: 99\n"
     ]
    }
   ],
   "source": [
    "def myMax(list1):\n",
    "\n",
    "\t# Assume first number in list is largest\n",
    "\t# initially and assign it to variable \"max\"\n",
    "\tmax = list1[0]\n",
    "# Now traverse through the list and compare\n",
    "\t# each number with \"max\" value. Whichever is\n",
    "\t# largest assign that value to \"max'.\n",
    "\tfor x in list1:\n",
    "\t\tif x > max:\n",
    "\t\t\tmax = x\n",
    "\n",
    "\t# after complete traversing the list\n",
    "\t# return the \"max\" value\n",
    "\treturn max\n",
    "\n",
    "\n",
    "# Driver code\n",
    "list1 = [10, 20, 4, 45, 99]\n",
    "print(\"Largest element is:\", myMax(list1))\n"
   ]
  },
  {
   "cell_type": "markdown",
   "id": "a390330c-7690-4fe5-95a2-c525b104d179",
   "metadata": {},
   "source": [
    "4. Implement a function to count the occurrence of each element in a list.\n"
   ]
  },
  {
   "cell_type": "code",
   "execution_count": 28,
   "id": "a717a8d6-1d25-46a9-a3ec-c4f61ee27522",
   "metadata": {},
   "outputs": [
    {
     "name": "stdout",
     "output_type": "stream",
     "text": [
      "8 has occurred 5 times\n"
     ]
    }
   ],
   "source": [
    "# Python code to count the number of occurrences\n",
    "def countX(lst, x):\n",
    "\tcount = 0\n",
    "\tfor ele in lst:\n",
    "\t\tif (ele == x):\n",
    "\t\t\tcount = count + 1\n",
    "\treturn count\n",
    "\n",
    "\n",
    "# Driver Code\n",
    "lst = [8, 6, 8, 10, 8, 20, 10, 8, 8]\n",
    "x = 8\n",
    "print('{} has occurred {} times'.format(x,countX(lst, x)))\n"
   ]
  },
  {
   "cell_type": "markdown",
   "id": "95b30049-da44-494f-994f-007c0807eb1a",
   "metadata": {},
   "source": [
    "5. Write a Python program to find the second largest number in a list.\n"
   ]
  },
  {
   "cell_type": "code",
   "execution_count": 29,
   "id": "88858090-7abd-44ae-8a3f-bb1ba4c4630f",
   "metadata": {},
   "outputs": [
    {
     "name": "stdout",
     "output_type": "stream",
     "text": [
      "30\n"
     ]
    }
   ],
   "source": [
    "def calc_largest(arr):  \n",
    "    second_largest = arr[0]  \n",
    "    largest_val = arr[0]  \n",
    "    for i in range(len(arr)):  \n",
    "        if arr[i] > largest_val:  \n",
    "            largest_val = arr[i]  \n",
    "  \n",
    "    for i in range(len(arr)):  \n",
    "        if arr[i] > second_largest and arr[i] != largest_val:  \n",
    "            second_largest = arr[i]  \n",
    "  \n",
    "    return second_largest  \n",
    "print(calc_largest([20, 30, 40, 25, 10]))  "
   ]
  },
  {
   "cell_type": "markdown",
   "id": "3f2c7bf7-310a-41c6-b46f-99fd9e44fa5a",
   "metadata": {},
   "source": [
    "6. Implement a function to remove duplicate elements from a list."
   ]
  },
  {
   "cell_type": "code",
   "execution_count": 30,
   "id": "b76abeda-1272-4a0f-809f-1a31d4d0ed64",
   "metadata": {},
   "outputs": [
    {
     "name": "stdout",
     "output_type": "stream",
     "text": [
      "Original List:  [1, 2, 4, 2, 1, 4, 5]\n",
      "List after removing duplicate elements:  [1, 2, 4, 5]\n"
     ]
    }
   ],
   "source": [
    "# Python 3 code to demonstrate\n",
    "# removing duplicate elements from the list\n",
    "l = [1, 2, 4, 2, 1, 4, 5]\n",
    "print(\"Original List: \", l)\n",
    "res = [*set(l)]\n",
    "print(\"List after removing duplicate elements: \", res)"
   ]
  },
  {
   "cell_type": "markdown",
   "id": "5ae548a3-a92c-4ee5-ab24-ffa17783f6c0",
   "metadata": {},
   "source": [
    "7. Write a program to calculate the factorial of a given number.\n"
   ]
  },
  {
   "cell_type": "code",
   "execution_count": 31,
   "id": "a200636e-eae8-4213-b16b-9f7db2809fc1",
   "metadata": {},
   "outputs": [
    {
     "name": "stdin",
     "output_type": "stream",
     "text": [
      "Enter a number:  6\n"
     ]
    },
    {
     "name": "stdout",
     "output_type": "stream",
     "text": [
      "The factorial of 6 is 720\n"
     ]
    }
   ],
   "source": [
    "num = int(input(\"Enter a number: \"))    \n",
    "factorial = 1    \n",
    "if num < 0:    \n",
    "   print(\" Factorial does not exist for negative numbers\")    \n",
    "elif num == 0:    \n",
    "   print(\"The factorial of 0 is 1\")    \n",
    "else:    \n",
    "   for i in range(1,num + 1):    \n",
    "       factorial = factorial*i    \n",
    "   print(\"The factorial of\",num,\"is\",factorial)    "
   ]
  },
  {
   "cell_type": "markdown",
   "id": "db8775e5-b81c-455f-9a50-8a3b1ccec315",
   "metadata": {},
   "source": [
    "8. Implement a function to check if a given number is prime.\n"
   ]
  },
  {
   "cell_type": "code",
   "execution_count": 35,
   "id": "6d67ffae-806e-41c9-bb8f-bd73c212a4bb",
   "metadata": {},
   "outputs": [
    {
     "name": "stdout",
     "output_type": "stream",
     "text": [
      "True\n",
      "False\n"
     ]
    }
   ],
   "source": [
    "def is_prime(n):\n",
    "    if n < 2:\n",
    "        return False\n",
    "    i = 2\n",
    "    while i*i <= n:\n",
    "        if n % i == 0:\n",
    "            return False\n",
    "        i += 1\n",
    "    return True\n",
    " \n",
    "print(is_prime(11))  # True\n",
    "print(is_prime(4))   # False"
   ]
  },
  {
   "cell_type": "markdown",
   "id": "e3c70d6e-8472-4305-bebc-ca4a517223b6",
   "metadata": {},
   "source": [
    "9. Write a Python program to sort a list of integers in ascending order.\n"
   ]
  },
  {
   "cell_type": "code",
   "execution_count": 40,
   "id": "264d98a6-b340-4209-8c95-c0428bd98d7d",
   "metadata": {},
   "outputs": [
    {
     "name": "stdout",
     "output_type": "stream",
     "text": [
      "Element After Sorting List in Ascending Order is :  [0, 2, 2, 3, 3, 4, 5, 5, 6, 9]\n"
     ]
    }
   ],
   "source": [
    "NumList = [4,3,6,2,5,0,9,2,5,3]\n",
    "Number=len(NumList)\n",
    "\n",
    "i = 0\n",
    "while(i < Number):\n",
    "    j = i + 1\n",
    "    while(j < Number):\n",
    "        if(NumList[i] > NumList[j]):\n",
    "            temp = NumList[i]\n",
    "            NumList[i] = NumList[j]\n",
    "            NumList[j] = temp\n",
    "        j = j + 1\n",
    "    i = i + 1\n",
    "\n",
    "print(\"Element After Sorting List in Ascending Order is : \", NumList)"
   ]
  },
  {
   "cell_type": "markdown",
   "id": "dee1d55d-eedd-4acf-97d1-42dff3da69ea",
   "metadata": {},
   "source": [
    "10. Implement a function to find the sum of all numbers in a list."
   ]
  },
  {
   "cell_type": "code",
   "execution_count": 41,
   "id": "82ed4c16-7bd0-4942-8e21-08bf427f1dbc",
   "metadata": {},
   "outputs": [
    {
     "name": "stdout",
     "output_type": "stream",
     "text": [
      "20\n"
     ]
    }
   ],
   "source": [
    "def sum(numbers):\n",
    "    total = 0\n",
    "    for x in numbers:\n",
    "        total += x\n",
    "    return total\n",
    "print(sum((8, 2, 3, 0, 7)))\n"
   ]
  },
  {
   "cell_type": "markdown",
   "id": "d6feb3b7-2252-4886-9ba1-9660e9bc4def",
   "metadata": {},
   "source": [
    "11. Write a program to find the common elements between two lists.\n"
   ]
  },
  {
   "cell_type": "code",
   "execution_count": 42,
   "id": "0a91d0c9-3011-4d84-90b7-239dd93c153d",
   "metadata": {},
   "outputs": [
    {
     "name": "stdout",
     "output_type": "stream",
     "text": [
      "{5}\n",
      "No common elements\n"
     ]
    }
   ],
   "source": [
    "def common_member(a, b):\n",
    "    a_set = set(a)\n",
    "    b_set = set(b)\n",
    " \n",
    "    if (a_set & b_set):\n",
    "        print(a_set & b_set)\n",
    "    else:\n",
    "        print(\"No common elements\")\n",
    "            \n",
    "a = [1, 2, 3, 4, 5]\n",
    "b = [5, 6, 7, 8, 9]\n",
    "common_member(a, b)\n",
    "  \n",
    "a = [1, 2, 3, 4, 5]\n",
    "b = [6, 7, 8, 9]\n",
    "common_member(a, b)"
   ]
  },
  {
   "cell_type": "markdown",
   "id": "34a9e073-34ec-4b51-b438-4a8eaeaa3636",
   "metadata": {},
   "source": [
    "12. Implement a function to check if a given string is an anagram of another string.\n"
   ]
  },
  {
   "cell_type": "code",
   "execution_count": 44,
   "id": "01feb4fb-206a-446b-b8cf-9db0a3cea785",
   "metadata": {},
   "outputs": [
    {
     "name": "stdout",
     "output_type": "stream",
     "text": [
      "The two strings are not anagram of each other\n"
     ]
    }
   ],
   "source": [
    "class Solution:\n",
    "\n",
    "\t# Function is to check whether two strings are anagram of each other or not.\n",
    "\tdef isAnagram(self, a, b):\n",
    "\n",
    "\t\tif sorted(a) == sorted(b):\n",
    "\t\t\treturn True\n",
    "\t\telse:\n",
    "\t\t\treturn False\n",
    "\n",
    "if __name__ == '__main__':\n",
    "\ta = \"gram\"\n",
    "\tb = \"arm\"\n",
    "\tif(Solution().isAnagram(a, b)):\n",
    "\t    print(\"The two strings are anagram of each other\")\n",
    "\telse:\n",
    "\t    print(\"The two strings are not anagram of each other\")"
   ]
  },
  {
   "cell_type": "markdown",
   "id": "6533040b-ee60-465f-a358-ec1dd2690154",
   "metadata": {},
   "source": [
    "13. Write a Python program to generate all permutations of a given string.\n"
   ]
  },
  {
   "cell_type": "code",
   "execution_count": 45,
   "id": "bf1442cf-fb3a-4247-839a-8cb363cfb120",
   "metadata": {},
   "outputs": [
    {
     "name": "stdout",
     "output_type": "stream",
     "text": [
      "ABC\n",
      "ACB\n",
      "BAC\n",
      "BCA\n",
      "CBA\n",
      "CAB\n"
     ]
    }
   ],
   "source": [
    "def toString(List):\n",
    "\treturn ''.join(List)\n",
    "\n",
    "def permute(a, l, r):\n",
    "\tif l == r:\n",
    "\t\tprint (toString(a))\n",
    "\telse:\n",
    "\t\tfor i in range(l, r + 1):\n",
    "\t\t\ta[l], a[i] = a[i], a[l]\n",
    "\t\t\tpermute(a, l + 1, r)\n",
    "\n",
    "\t\t\t# backtrack\n",
    "\t\t\ta[l], a[i] = a[i], a[l]\n",
    "\n",
    "# Driver code\n",
    "string = \"ABC\"\n",
    "n = len(string)\n",
    "a = list(string)\n",
    "permute(a, 0, n-1)\n"
   ]
  },
  {
   "cell_type": "markdown",
   "id": "8fb4cec8-3325-4afc-b64a-4afa82065c87",
   "metadata": {},
   "source": [
    "14. Implement a function to calculate the Fibonacci sequence up to a given number of terms.\n"
   ]
  },
  {
   "cell_type": "code",
   "execution_count": 46,
   "id": "aa9fad16-b75e-46a2-af41-6dde3ae7d34c",
   "metadata": {},
   "outputs": [
    {
     "name": "stdout",
     "output_type": "stream",
     "text": [
      "34\n"
     ]
    }
   ],
   "source": [
    "def fibonacci(n):\n",
    "\ta = 0\n",
    "\tb = 1\n",
    "\tif n < 0:\n",
    "\t\tprint(\"Incorrect input\")\n",
    "\telif n == 0:\n",
    "\t\treturn a\n",
    "\telif n == 1:\n",
    "\t\treturn b\n",
    "\telse:\n",
    "\t\tfor i in range(2, n+1):\n",
    "\t\t\tc = a + b\n",
    "\t\t\ta = b\n",
    "\t\t\tb = c\n",
    "\t\treturn b\n",
    "\n",
    "# Driver Program\n",
    "\n",
    "\n",
    "print(fibonacci(9))\n"
   ]
  },
  {
   "cell_type": "markdown",
   "id": "a5b46c21-eece-4be7-a46d-ace03aa1c8cf",
   "metadata": {},
   "source": [
    "15. Write a program to find the median of a list of numbers.\n"
   ]
  },
  {
   "cell_type": "code",
   "execution_count": 47,
   "id": "bdea952f-a240-4679-abda-62558e2576b9",
   "metadata": {},
   "outputs": [
    {
     "name": "stdout",
     "output_type": "stream",
     "text": [
      "The original list : [4, 5, 8, 9, 10, 17]\n",
      "Median of list is : 8.5\n"
     ]
    }
   ],
   "source": [
    "test_list = [4, 5, 8, 9, 10, 17]\n",
    "\n",
    "print(\"The original list : \" + str(test_list))\n",
    "\n",
    "# Median of list\n",
    "# Using loop + \"~\" operator\n",
    "test_list.sort()\n",
    "mid = len(test_list) // 2\n",
    "res = (test_list[mid] + test_list[~mid]) / 2\n",
    "\n",
    "print(\"Median of list is : \" + str(res))\n"
   ]
  },
  {
   "cell_type": "markdown",
   "id": "e921c8e8-f5af-4e1f-a6b1-eafa11aca03c",
   "metadata": {},
   "source": [
    "16. Implement a function to check if a given list is sorted in non-decreasing order.\n"
   ]
  },
  {
   "cell_type": "code",
   "execution_count": 49,
   "id": "6e17e6c0-fb8d-46e1-839f-413c512e7c5d",
   "metadata": {},
   "outputs": [
    {
     "name": "stdout",
     "output_type": "stream",
     "text": [
      "Original list : [1, 4, 5, 8, 10]\n",
      "Yes, List is sorted.\n"
     ]
    }
   ],
   "source": [
    "test_list = [1, 4, 5, 8, 10]\n",
    "\n",
    "print (\"Original list : \" + str(test_list))\n",
    "\n",
    "flag = 0\n",
    "i = 1\n",
    "while i < len(test_list):\n",
    "\tif(test_list[i] < test_list[i - 1]):\n",
    "\t\tflag = 1\n",
    "\ti += 1\n",
    "\t\n",
    "if (not flag) :\n",
    "\tprint (\"Yes, List is sorted in non decreasing order.\")\n",
    "else :\n",
    "\tprint (\"No, List is not sorted in non decresing order.\")\n"
   ]
  },
  {
   "cell_type": "markdown",
   "id": "49619846-c1e9-4e75-9e43-d129625e745c",
   "metadata": {},
   "source": [
    "17. Write a Python program to find the intersection of two lists.\n"
   ]
  },
  {
   "cell_type": "code",
   "execution_count": 50,
   "id": "985eef6a-3e93-47bf-993c-3cb3cf90c13f",
   "metadata": {},
   "outputs": [
    {
     "name": "stdout",
     "output_type": "stream",
     "text": [
      "[9, 11, 26, 28]\n"
     ]
    }
   ],
   "source": [
    "def intersection(lst1, lst2):\n",
    "\tlst3 = [value for value in lst1 if value in lst2]\n",
    "\treturn lst3\n",
    "\n",
    "# Driver Code\n",
    "lst1 = [4, 9, 1, 17, 11, 26, 28, 54, 69]\n",
    "lst2 = [9, 9, 74, 21, 45, 11, 63, 28, 26]\n",
    "print(intersection(lst1, lst2))\n"
   ]
  },
  {
   "cell_type": "markdown",
   "id": "8e55ddad-6064-4b64-b81b-eb4ce7b46d71",
   "metadata": {},
   "source": [
    "18. Implement a function to find the maximum subarray sum in a given list.\n"
   ]
  },
  {
   "cell_type": "code",
   "execution_count": 55,
   "id": "e60288c8-f476-424a-97b6-a199e866a321",
   "metadata": {},
   "outputs": [
    {
     "name": "stdout",
     "output_type": "stream",
     "text": [
      "The sum of contiguous sublist with the largest sum is 6\n"
     ]
    }
   ],
   "source": [
    "def kadane(arr):\n",
    " \n",
    "    # stores the maximum sum sublist found so far\n",
    "    max_so_far = 0\n",
    " \n",
    "    # stores the maximum sum of sublist ending at the current position\n",
    "    max_ending_here = 0\n",
    " \n",
    "    # traverse the given list\n",
    "    for i in arr:\n",
    "        # update the maximum sum of sublist \"ending\" at index 'i' (by adding the\n",
    "        # current element to maximum sum ending at previous index 'i-1')\n",
    "        max_ending_here = max_ending_here + i\n",
    " \n",
    "        # if the maximum sum is negative, set it to 0 (which represents\n",
    "        # an empty sublist)\n",
    "        max_ending_here = max(max_ending_here, 0)\n",
    " \n",
    "        # update the result if the current sublist sum is found to be greater\n",
    "        max_so_far = max(max_so_far, max_ending_here)\n",
    " \n",
    "    return max_so_far\n",
    " \n",
    " \n",
    "if __name__ == '__main__':\n",
    " \n",
    "    arr = [-2, 1, -3, 4, -1, 2, 1, -5, 4]\n",
    " \n",
    "    print('The sum of contiguous sublist with the largest sum is',\n",
    "        kadane(arr))"
   ]
  },
  {
   "cell_type": "markdown",
   "id": "be515948-de61-4c3e-a316-57d183bf9aab",
   "metadata": {},
   "source": [
    "19. Write a program to remove all vowels from a given string"
   ]
  },
  {
   "cell_type": "code",
   "execution_count": 56,
   "id": "acdcb2d2-445e-4071-b6db-9a599648ee7a",
   "metadata": {},
   "outputs": [
    {
     "name": "stdout",
     "output_type": "stream",
     "text": [
      "Dt Scnc Mstr clss\n",
      "Lvng Pythn LL\n"
     ]
    }
   ],
   "source": [
    "# Python program to remove vowels from a string\n",
    "# Function to remove vowels\n",
    "def rem_vowel(string):\n",
    "\tvowels = ['a','e','i','o','u']\n",
    "\tresult = [letter for letter in string if letter.lower() not in vowels]\n",
    "\tresult = ''.join(result)\n",
    "\tprint(result)\n",
    "\n",
    "# Driver program\n",
    "string = \"Data Science Master class\"\n",
    "rem_vowel(string)\n",
    "string = \"Loving Python LOL\"\n",
    "rem_vowel(string)"
   ]
  },
  {
   "cell_type": "markdown",
   "id": "07a31005-4ecc-40d1-aeea-ca8769b39b39",
   "metadata": {},
   "source": [
    "20. Implement a function to reverse the order of words in a given sentence.\n"
   ]
  },
  {
   "cell_type": "code",
   "execution_count": 58,
   "id": "36d0363d-0835-4995-a092-73367b123349",
   "metadata": {},
   "outputs": [
    {
     "name": "stdout",
     "output_type": "stream",
     "text": [
      " much very program this like i\n"
     ]
    }
   ],
   "source": [
    "def RevString(s, l):\n",
    "\n",
    "\tif l % 2 == 0:\n",
    "\n",
    "\t\tj = int(l/2)\n",
    "        \n",
    "\t\twhile(j <= l - 1):\n",
    "\t\t\ts[j], s[l - j - 1] = s[l - j - 1], s[j]\n",
    "\t\t\tj += 1\n",
    "\n",
    "\telse:\n",
    "\n",
    "\t\tj = int(l/2 + 1)\n",
    "\n",
    "\t\twhile(j <= l - 1):\n",
    "\t\t\ts[j], s[l - 1 - j] = s[l - j - 1], s[j]\n",
    "\t\t\tj += 1\n",
    "\n",
    "\t\treturn s\n",
    "\n",
    "\n",
    "# Driver Code\n",
    "s = 'i like this program very much '\n",
    "string = s.split(' ')\n",
    "string = RevString(string, len(string))\n",
    "print(\" \".join(string))\n"
   ]
  },
  {
   "cell_type": "markdown",
   "id": "d29dab28-0195-47c0-8d22-69204a62c968",
   "metadata": {},
   "source": [
    "21. Write a Python program to check if two strings are anagrams of each other.\n"
   ]
  },
  {
   "cell_type": "code",
   "execution_count": 59,
   "id": "521a6d81-e716-4ded-b22d-e65a50069462",
   "metadata": {},
   "outputs": [
    {
     "name": "stdout",
     "output_type": "stream",
     "text": [
      "The two strings are not anagram of each other\n"
     ]
    }
   ],
   "source": [
    "class Solution:\n",
    "\n",
    "\t# Function is to check whether two strings are anagram of each other or not.\n",
    "\tdef isAnagram(self, a, b):\n",
    "\n",
    "\t\tif sorted(a) == sorted(b):\n",
    "\t\t\treturn True\n",
    "\t\telse:\n",
    "\t\t\treturn False\n",
    "\n",
    "if __name__ == '__main__':\n",
    "\ta = \"gram\"\n",
    "\tb = \"arm\"\n",
    "\tif(Solution().isAnagram(a, b)):\n",
    "\t    print(\"The two strings are anagram of each other\")\n",
    "\telse:\n",
    "\t    print(\"The two strings are not anagram of each other\")"
   ]
  },
  {
   "cell_type": "markdown",
   "id": "54fd1449-cd3a-4a47-bea2-3dfd440d2263",
   "metadata": {},
   "source": [
    "22. Implement a function to find the first non-repeating character in a string.\n"
   ]
  },
  {
   "cell_type": "code",
   "execution_count": 65,
   "id": "c8842fab-11b0-4bdd-9115-b2f6ef0acfad",
   "metadata": {},
   "outputs": [
    {
     "name": "stdout",
     "output_type": "stream",
     "text": [
      "First non-repeating character is t\n"
     ]
    }
   ],
   "source": [
    "string = \"datadscience\"\n",
    "index = -1\n",
    "fnc = \"\"\n",
    "\n",
    "if len(string) == 0 :\n",
    "    print(\"EMTPY STRING\");\n",
    "\n",
    "for i in string:\n",
    "\tif string.count(i) == 1:\n",
    "\t\tfnc += i\n",
    "\t\tbreak\n",
    "\telse:\n",
    "\t\tindex += 1\n",
    "if index == len(string)-1 :\n",
    "\tprint(\"All characters are repeating \")\n",
    "else:\n",
    "\tprint(\"First non-repeating character is\", fnc)\n"
   ]
  },
  {
   "cell_type": "markdown",
   "id": "91576387-6f61-419a-ba5d-0f64c08844e9",
   "metadata": {},
   "source": [
    "23. Write a program to find the prime factors of a given number.\n"
   ]
  },
  {
   "cell_type": "code",
   "execution_count": 72,
   "id": "0ea84ed3-c7eb-4cfe-8ea3-16bc9535138e",
   "metadata": {},
   "outputs": [
    {
     "name": "stdout",
     "output_type": "stream",
     "text": [
      "3\n",
      "3\n",
      "5\n",
      "7\n"
     ]
    }
   ],
   "source": [
    "import math\n",
    "\n",
    "def primeFactors(n):\n",
    "\t\n",
    "\twhile n % 2 == 0:\n",
    "\t\tprint(2)\n",
    "\t\tn = n / 2\n",
    "\t\t\n",
    "\tfor i in range(3,int(math.sqrt(n))+1,2):\n",
    "\t\t\n",
    "\t\twhile n % i== 0:\n",
    "\t\t\tprint(i)\n",
    "\t\t\tn = n / i\n",
    "\t\t\t\n",
    "\tif n > 2:\n",
    "\t\tprint(n)\n",
    "\t\t\n",
    "# Driver Program to test above function\n",
    "\n",
    "n = 315\n",
    "primeFactors(n)"
   ]
  },
  {
   "cell_type": "markdown",
   "id": "e84ce0af-385a-41e9-a5ec-88fe1165cfbf",
   "metadata": {},
   "source": [
    "24. Implement a function to check if a given number is a power of two.\n"
   ]
  },
  {
   "cell_type": "code",
   "execution_count": 74,
   "id": "0d5673de-4621-4778-bdce-78a9824a26cd",
   "metadata": {},
   "outputs": [
    {
     "name": "stdout",
     "output_type": "stream",
     "text": [
      "Yes\n"
     ]
    }
   ],
   "source": [
    "import math\n",
    "\n",
    "def Log2(x):\n",
    "\tif x == 0:\n",
    "\t\treturn false\n",
    "\n",
    "\treturn (math.log10(x) /\n",
    "\t\t\tmath.log10(2))\n",
    "\n",
    "def isPowerOfTwo(n):\n",
    "\treturn (math.ceil(Log2(n)) ==\n",
    "\t\t\tmath.floor(Log2(n)))\n",
    "\n",
    "\n",
    "# Driver Code\n",
    "if __name__ == \"__main__\":\n",
    "\n",
    "\tif(isPowerOfTwo(64)):\n",
    "\t\tprint(\"Yes\")\n",
    "\telse:\n",
    "\t\tprint(\"No\")"
   ]
  },
  {
   "cell_type": "markdown",
   "id": "27c841d7-e653-4878-a4ed-279e0515f61b",
   "metadata": {},
   "source": [
    "25. Write a Python program to merge two sorted lists into a single sorted list.\n"
   ]
  },
  {
   "cell_type": "code",
   "execution_count": 2,
   "id": "32403717-c926-470f-b66d-092cd9103233",
   "metadata": {},
   "outputs": [
    {
     "name": "stdout",
     "output_type": "stream",
     "text": [
      "Merged Linked List is:\n",
      "2 3 5 10 15 20 "
     ]
    }
   ],
   "source": [
    "# Linked List Node\n",
    "class Node:\n",
    "\tdef __init__(self, data):\n",
    "\t\tself.data = data\n",
    "\t\tself.next = None\n",
    "\n",
    "\n",
    "# Create & Handle List operations\n",
    "class LinkedList:\n",
    "\tdef __init__(self):\n",
    "\t\tself.head = None\n",
    "\n",
    "\t# Method to display the list\n",
    "\tdef printList(self):\n",
    "\t\ttemp = self.head\n",
    "\t\twhile temp:\n",
    "\t\t\tprint(temp.data, end=\" \")\n",
    "\t\t\ttemp = temp.next\n",
    "\n",
    "\t# Method to add element to list\n",
    "\tdef addToList(self, newData):\n",
    "\t\tnewNode = Node(newData)\n",
    "\t\tif self.head is None:\n",
    "\t\t\tself.head = newNode\n",
    "\t\t\treturn\n",
    "\n",
    "\t\tlast = self.head\n",
    "\t\twhile last.next:\n",
    "\t\t\tlast = last.next\n",
    "\n",
    "\t\tlast.next = newNode\n",
    "\n",
    "\n",
    "# Function to merge the lists\n",
    "# Takes two lists which are sorted\n",
    "# joins them to get a single sorted list\n",
    "def mergeLists(headA, headB):\n",
    "\n",
    "\t# A dummy node to store the result\n",
    "\tdummyNode = Node(0)\n",
    "\n",
    "\t# Tail stores the last node\n",
    "\ttail = dummyNode\n",
    "\twhile True:\n",
    "\n",
    "\t\t# If any of the list gets completely empty\n",
    "\t\t# directly join all the elements of the other list\n",
    "\t\tif headA is None:\n",
    "\t\t\ttail.next = headB\n",
    "\t\t\tbreak\n",
    "\t\tif headB is None:\n",
    "\t\t\ttail.next = headA\n",
    "\t\t\tbreak\n",
    "\n",
    "\t\t# Compare the data of the lists and whichever is smaller is\n",
    "\t\t# appended to the last of the merged list and the head is changed\n",
    "\t\tif headA.data <= headB.data:\n",
    "\t\t\ttail.next = headA\n",
    "\t\t\theadA = headA.next\n",
    "\t\telse:\n",
    "\t\t\ttail.next = headB\n",
    "\t\t\theadB = headB.next\n",
    "\n",
    "\t\t# Advance the tail\n",
    "\t\ttail = tail.next\n",
    "\n",
    "\t# Returns the head of the merged list\n",
    "\treturn dummyNode.next\n",
    "\n",
    "\n",
    "# Create 2 lists\n",
    "listA = LinkedList()\n",
    "listB = LinkedList()\n",
    "\n",
    "# Add elements to the list in sorted order\n",
    "listA.addToList(5)\n",
    "listA.addToList(10)\n",
    "listA.addToList(15)\n",
    "\n",
    "listB.addToList(2)\n",
    "listB.addToList(3)\n",
    "listB.addToList(20)\n",
    "\n",
    "# Call the merge function\n",
    "listA.head = mergeLists(listA.head, listB.head)\n",
    "\n",
    "# Display merged list\n",
    "print(\"Merged Linked List is:\")\n",
    "listA.printList()"
   ]
  },
  {
   "cell_type": "markdown",
   "id": "d9402910-87a9-4fba-97ba-3365d97811c7",
   "metadata": {},
   "source": [
    "26. Implement a function to find the mode of a list of numbers.\n"
   ]
  },
  {
   "cell_type": "code",
   "execution_count": 3,
   "id": "cecdf479-46e1-4c80-90a5-7cd96c6cec90",
   "metadata": {},
   "outputs": [
    {
     "name": "stdout",
     "output_type": "stream",
     "text": [
      "Mode: 2\n"
     ]
    }
   ],
   "source": [
    "class Node:\n",
    "\tdef __init__(self, value):\n",
    "\t\tself.data = value\n",
    "\t\tself.next = None\n",
    "\n",
    "\n",
    "def findMode(head):\n",
    "\tfreq = {}\n",
    "\tmax_freq = 0\n",
    "\tcurr = head\n",
    "\t\n",
    "\t# Count frequency of each element in linked list\n",
    "\twhile curr != None:\n",
    "\t\tfreq[curr.data] = freq.get(curr.data, 0) + 1\n",
    "\t\tmax_freq = max(max_freq, freq[curr.data])\n",
    "\t\tcurr = curr.next\n",
    "\t\n",
    "\t# Find mode of linked list\n",
    "\tcurr = head\n",
    "\tmode = 0\n",
    "\twhile curr != None:\n",
    "\t\tif freq[curr.data] == max_freq:\n",
    "\t\t\tmode = curr.data\n",
    "\t\t\tbreak\n",
    "\t\tcurr = curr.next\n",
    "\t\n",
    "\treturn mode\n",
    "\n",
    "\n",
    "if __name__ == \"__main__\":\n",
    "\thead = Node(1)\n",
    "\thead.next = Node(2)\n",
    "\thead.next.next = Node(3)\n",
    "\thead.next.next.next = Node(2)\n",
    "\thead.next.next.next.next = Node(4)\n",
    "\thead.next.next.next.next.next = Node(3)\n",
    "\thead.next.next.next.next.next.next = Node(2)\n",
    "\thead.next.next.next.next.next.next.next = Node(5)\n",
    "\thead.next.next.next.next.next.next.next.next = None\n",
    "\t\n",
    "\tmode = findMode(head)\n",
    "\tprint(f\"Mode: {mode}\") # output \"Mode: 2\"\n"
   ]
  },
  {
   "cell_type": "markdown",
   "id": "43be298e-6779-4a46-ae7f-f0906ca7b050",
   "metadata": {},
   "source": [
    "27. Write a program to find the greatest common divisor (GCD) of two numbers.\n"
   ]
  },
  {
   "cell_type": "code",
   "execution_count": 4,
   "id": "ac98526c-4fd3-4413-998c-ee28abb91418",
   "metadata": {},
   "outputs": [
    {
     "name": "stdout",
     "output_type": "stream",
     "text": [
      "The gcd of 60 and 48 is : 12\n"
     ]
    }
   ],
   "source": [
    "def hcf(a, b):\n",
    "\tif(b == 0):\n",
    "\t\treturn a\n",
    "\telse:\n",
    "\t\treturn hcf(b, a % b)\n",
    "\n",
    "a = 60\n",
    "b = 48\n",
    "\n",
    "# prints 12\n",
    "print(\"The gcd of 60 and 48 is : \", end=\"\")\n",
    "print(hcf(60, 48))\n"
   ]
  },
  {
   "cell_type": "markdown",
   "id": "d54de236-0b96-4ad1-80ff-65749ce2870a",
   "metadata": {},
   "source": [
    "28. Implement a function to calculate the square root of a given number."
   ]
  },
  {
   "cell_type": "code",
   "execution_count": 5,
   "id": "8c28735a-ea01-45db-a639-b86c8cce394c",
   "metadata": {},
   "outputs": [
    {
     "name": "stdout",
     "output_type": "stream",
     "text": [
      "3\n"
     ]
    }
   ],
   "source": [
    "# Python 3 program to find floor(sqrt(x)\n",
    "\n",
    "# Returns floor of square root of x\n",
    "\n",
    "\n",
    "def floorSqrt(x):\n",
    "\n",
    "\t# Base cases\n",
    "\tif (x == 0 or x == 1):\n",
    "\t\treturn x\n",
    "\n",
    "\t# Do Binary Search for floor(sqrt(x))\n",
    "\tstart = 1\n",
    "\tend = x//2\n",
    "\twhile (start <= end):\n",
    "\t\tmid = (start + end) // 2\n",
    "\n",
    "\t\t# If x is a perfect square\n",
    "\t\tif (mid*mid == x):\n",
    "\t\t\treturn mid\n",
    "\n",
    "\t\t# Since we need floor, we update\n",
    "\t\t# answer when mid*mid is smaller\n",
    "\t\t# than x, and move closer to sqrt(x)\n",
    "\t\tif (mid * mid < x):\n",
    "\t\t\tstart = mid + 1\n",
    "\t\t\tans = mid\n",
    "\n",
    "\t\telse:\n",
    "\n",
    "\t\t\t# If mid*mid is greater than x\n",
    "\t\t\tend = mid-1\n",
    "\n",
    "\treturn ans\n",
    "\n",
    "\n",
    "# driver code\n",
    "x = 11\n",
    "print(floorSqrt(x))\n",
    "\n",
    "# This code is contributed by Nikita Tiwari.\n"
   ]
  },
  {
   "cell_type": "markdown",
   "id": "0853d7b0-62b4-4bfa-955e-f483f6bed97c",
   "metadata": {},
   "source": [
    "29. Write a Python program to check if a given string is a valid palindrome ignoring non-alphanumeric characters.\n"
   ]
  },
  {
   "cell_type": "code",
   "execution_count": 7,
   "id": "b1b2ed01-d3ad-491e-b465-b7a2793a4ab8",
   "metadata": {},
   "outputs": [
    {
     "name": "stdout",
     "output_type": "stream",
     "text": [
      "Yes\n"
     ]
    }
   ],
   "source": [
    "# function to check string is\n",
    "# palindrome or not\n",
    "def isPalindrome(str):\n",
    "\n",
    "\t# Run loop from 0 to len/2\n",
    "\tfor i in range(0, int(len(str)/2)):\n",
    "\t\tif str[i] != str[len(str)-i-1]:\n",
    "\t\t\treturn False\n",
    "\treturn True\n",
    "\n",
    "# main function\n",
    "s = \"nitin\"\n",
    "ans = isPalindrome(s)\n",
    "\n",
    "if (ans):\n",
    "\tprint(\"Yes\")\n",
    "else:\n",
    "\tprint(\"No\")\n"
   ]
  },
  {
   "cell_type": "markdown",
   "id": "63bd7a8c-0000-4bd9-850e-b3a3ad2b6dae",
   "metadata": {},
   "source": [
    "30. Implement a function to find the minimum element in a rotated sorted list."
   ]
  },
  {
   "cell_type": "code",
   "execution_count": 8,
   "id": "37c46c09-081e-40e6-9f9b-a37bb6fcc165",
   "metadata": {},
   "outputs": [
    {
     "name": "stdout",
     "output_type": "stream",
     "text": [
      "1\n"
     ]
    }
   ],
   "source": [
    "def findMin(arr, N):\n",
    "\t\n",
    "\tmin_ele = arr[0];\n",
    "\n",
    "\t# Traversing over array to\n",
    "\t# find minimum element\n",
    "\tfor i in range(N) :\n",
    "\t\tif arr[i] < min_ele :\n",
    "\t\t\tmin_ele = arr[i]\n",
    "\n",
    "\treturn min_ele;\n",
    "\n",
    "# Driver program\n",
    "arr = [5, 6, 1, 2, 3, 4]\n",
    "N = len(arr)\n",
    "\n",
    "print(findMin(arr,N))"
   ]
  },
  {
   "cell_type": "markdown",
   "id": "da9bf651-b3f8-457f-9469-4f4ca67e7554",
   "metadata": {},
   "source": [
    "31. Write a program to find the sum of all even numbers in a list.\n"
   ]
  },
  {
   "cell_type": "code",
   "execution_count": 17,
   "id": "0e3ae88d-13cc-4ca7-9395-8fa28b45ddf4",
   "metadata": {},
   "outputs": [
    {
     "name": "stdout",
     "output_type": "stream",
     "text": [
      "\n",
      "Sum of Even Numbers is 32\n"
     ]
    }
   ],
   "source": [
    "nums = [4,7,4,8,2,5,3,6,3,8]\n",
    "sum = 0\n",
    "\n",
    "for i in range(len(nums)):\n",
    "    if nums[i]%2 == 0:\n",
    "        sum = sum + nums[i]\n",
    "\n",
    "print(\"\\nSum of Even Numbers is\", sum)"
   ]
  },
  {
   "cell_type": "markdown",
   "id": "84cf37f5-ab41-4338-ac6a-16ccc4dd13ba",
   "metadata": {},
   "source": [
    "32. Implement a function to calculate the power of a number using recursion."
   ]
  },
  {
   "cell_type": "code",
   "execution_count": 20,
   "id": "92878433-c9b9-4549-8ab6-aa98cc4acf86",
   "metadata": {},
   "outputs": [
    {
     "name": "stdout",
     "output_type": "stream",
     "text": [
      "25\n"
     ]
    }
   ],
   "source": [
    "\n",
    "def power(N, P):\n",
    "\n",
    "\tif P == 0:\n",
    "\t\treturn 1\n",
    "\n",
    "\t# Recurrence relation\n",
    "\treturn (N*power(N, P-1))\n",
    "\n",
    "\n",
    "# Driver code\n",
    "if __name__ == '__main__':\n",
    "\tN = 5\n",
    "\tP = 2\n",
    "\n",
    "\tprint(power(N, P))\n"
   ]
  },
  {
   "cell_type": "markdown",
   "id": "fe04c46c-7666-47b1-936c-8dc1d1f3baa9",
   "metadata": {},
   "source": [
    "33. Write a Python program to remove duplicates from a list while preserving the order.\n"
   ]
  },
  {
   "cell_type": "code",
   "execution_count": 19,
   "id": "978c5c30-7c43-41eb-a0db-5a849015c900",
   "metadata": {},
   "outputs": [
    {
     "name": "stdout",
     "output_type": "stream",
     "text": [
      "\n",
      "Original lists:\n",
      "['a', 'a', 'b', 'a', 'a', 'c', 'c', 'c', 'd', 'e', 'a', 'b', 'b', 'b']\n",
      "Remove duplicates from the said list while preserving the order:\n",
      "['a', 'b', 'c', 'd', 'e']\n"
     ]
    }
   ],
   "source": [
    "from collections import OrderedDict\n",
    "def remove_duplicates(lst):\n",
    "    return list(OrderedDict.fromkeys(lst))\n",
    "\n",
    "chars = ['a','a','b','a', 'a', 'c', 'c', 'c','d','e','a', 'b', 'b', 'b']\n",
    "print(\"\\nOriginal lists:\")\n",
    "print(chars)\n",
    "result = remove_duplicates(chars)\n",
    "print(\"Remove duplicates from the said list while preserving the order:\")\n",
    "print(result)\n"
   ]
  },
  {
   "cell_type": "markdown",
   "id": "44ce8cf6-628f-4a1b-9fd9-67aabccf3238",
   "metadata": {},
   "source": [
    "34. Implement a function to find the longest common prefix among a list of strings.\n"
   ]
  },
  {
   "cell_type": "code",
   "execution_count": 24,
   "id": "2cefd9ed-e04a-405a-8e54-208131c93166",
   "metadata": {},
   "outputs": [
    {
     "name": "stdout",
     "output_type": "stream",
     "text": [
      "The longest Common Prefix is : data\n"
     ]
    }
   ],
   "source": [
    "def longestCommonPrefix( a):\n",
    "\t\n",
    "\tsize = len(a)\n",
    "\n",
    "\t# if size is 0, return empty string\n",
    "\tif (size == 0):\n",
    "\t\treturn \"\"\n",
    "\n",
    "\tif (size == 1):\n",
    "\t\treturn a[0]\n",
    "\n",
    "\t# sort the array of strings\n",
    "\ta.sort()\n",
    "\t\n",
    "\t# find the minimum length from\n",
    "\t# first and last string\n",
    "\tend = min(len(a[0]), len(a[size - 1]))\n",
    "\n",
    "\t# find the common prefix between\n",
    "\t# the first and last string\n",
    "\ti = 0\n",
    "\twhile (i < end and\n",
    "\t\ta[0][i] == a[size - 1][i]):\n",
    "\t\ti += 1\n",
    "\n",
    "\tpre = a[0][0: i]\n",
    "\treturn pre\n",
    "\n",
    "# Driver Code\n",
    "if __name__ == \"__main__\":\n",
    "\n",
    "\tinput = [\"datascience\", \"datanalytics\",\n",
    "\t\t\t\t\t\"datamining\", \"dataengineer\"]\n",
    "\tprint(\"The longest Common Prefix is :\" ,\n",
    "\t\t\t\tlongestCommonPrefix(input))\n"
   ]
  },
  {
   "cell_type": "markdown",
   "id": "e3fc5d4c-e5ff-4eca-8aba-ebf2810fb71e",
   "metadata": {},
   "source": [
    "35. Write a program to check if a given number is a perfect square.\n"
   ]
  },
  {
   "cell_type": "code",
   "execution_count": 28,
   "id": "236cfd7c-b9e2-4c6a-a5cf-8bffadeac76d",
   "metadata": {},
   "outputs": [
    {
     "name": "stdout",
     "output_type": "stream",
     "text": [
      "The number is a perfect square\n"
     ]
    }
   ],
   "source": [
    "num = 25  \n",
    "sqrt_num = num // 2  \n",
    "while sqrt_num * sqrt_num > num:  \n",
    "    sqrt_num = (sqrt_num + num // sqrt_num) // 2  \n",
    "if sqrt_num * sqrt_num == num:  \n",
    "    print(\"The number is a perfect square\")  \n",
    "else:  \n",
    "    print(\"The number is not a perfect square\")  "
   ]
  },
  {
   "cell_type": "markdown",
   "id": "79f251ee-975e-41ae-a5bd-27d89ab5c1d9",
   "metadata": {},
   "source": [
    "36. Implement a function to calculate the product of all elements in a list.\n"
   ]
  },
  {
   "cell_type": "code",
   "execution_count": 29,
   "id": "85c1d43b-71a3-4804-989a-c3c53ceb2146",
   "metadata": {},
   "outputs": [
    {
     "name": "stdout",
     "output_type": "stream",
     "text": [
      "6\n",
      "24\n"
     ]
    }
   ],
   "source": [
    "# Python program to multiply all values in the\n",
    "# list using traversal\n",
    "\n",
    "\n",
    "def multiplyList(myList):\n",
    "\n",
    "\t# Multiply elements one by one\n",
    "\tresult = 1\n",
    "\tfor x in myList:\n",
    "\t\tresult = result * x\n",
    "\treturn result\n",
    "\n",
    "\n",
    "# Driver code\n",
    "list1 = [1, 2, 3]\n",
    "list2 = [3, 2, 4]\n",
    "print(multiplyList(list1))\n",
    "print(multiplyList(list2))\n"
   ]
  },
  {
   "cell_type": "markdown",
   "id": "3959d999-3ee5-4c76-8c03-1b32262687ba",
   "metadata": {},
   "source": [
    "37. Write a Python program to reverse the order of words in a sentence while preserving the word order."
   ]
  },
  {
   "cell_type": "code",
   "execution_count": 30,
   "id": "c09346ae-967b-497d-95b0-c1c61e412e89",
   "metadata": {},
   "outputs": [
    {
     "name": "stdout",
     "output_type": "stream",
     "text": [
      "ASD si doog ot nrael\n"
     ]
    }
   ],
   "source": [
    "def reverseWordSentence(Sentence):\n",
    "\n",
    "\twords = Sentence.split(\" \")\n",
    "\tnewWords = [word[::-1] for word in words]\n",
    "\tnewSentence = \" \".join(newWords)\n",
    "\n",
    "\treturn newSentence\n",
    "\n",
    "# Driver's Code\n",
    "Sentence = \"DSA is good to learn\"\n",
    "print(reverseWordSentence(Sentence))\n"
   ]
  },
  {
   "cell_type": "markdown",
   "id": "9aa92f9d-ca31-476e-aeee-ecd6491d9c9f",
   "metadata": {},
   "source": [
    "38. Implement a function to find the missing number in a given list of consecutive numbers.\n"
   ]
  },
  {
   "cell_type": "code",
   "execution_count": 33,
   "id": "276d5e73-2244-4d2f-9679-e5c41b8bca55",
   "metadata": {},
   "outputs": [
    {
     "name": "stdout",
     "output_type": "stream",
     "text": [
      "[2, 6, 8, 9]\n"
     ]
    }
   ],
   "source": [
    "#The input list and the output list\n",
    "input = [4, 5, 3, 3, 1, 7, 10, 4, 5, 3]\n",
    "missing_elements = []\n",
    "\n",
    "#Loop through each element i and set input[i - 1] to -input[i - 1]. abs() is necessary for \n",
    "#this or it shows an error\n",
    "for i in input:    \n",
    "    if(input[abs(i) - 1] > 0):\n",
    "        input[abs(i) - 1] = -input[abs(i) - 1]\n",
    "    \n",
    "#Loop through the list again and append each positive value to output list\n",
    "for i in range(0, len(input)):    \n",
    "    if input[i] > 0:\n",
    "        missing_elements.append(i + 1)\n",
    "        \n",
    "print(missing_elements)"
   ]
  },
  {
   "cell_type": "markdown",
   "id": "a770f78b-893b-4c51-b6cf-a5da62b0591a",
   "metadata": {},
   "source": [
    "39. Write a program to find the sum of digits of a given number."
   ]
  },
  {
   "cell_type": "code",
   "execution_count": 34,
   "id": "4a41bcd9-ba29-472e-9e14-a54909a86b23",
   "metadata": {},
   "outputs": [
    {
     "name": "stdout",
     "output_type": "stream",
     "text": [
      "15\n"
     ]
    }
   ],
   "source": [
    "def getSum(n):\n",
    "    \n",
    "    sum = 0\n",
    "    while (n != 0):\n",
    "       \n",
    "        sum = sum + (n % 10)\n",
    "        n = n//10\n",
    "       \n",
    "    return sum\n",
    "   \n",
    "n = 12345\n",
    "print(getSum(n))"
   ]
  },
  {
   "cell_type": "markdown",
   "id": "727c29b4-c7a3-457f-b26e-bebda01c58d5",
   "metadata": {},
   "source": [
    "40. Implement a function to check if a given string is a valid palindrome considering case sensitivity.\n"
   ]
  },
  {
   "cell_type": "code",
   "execution_count": 38,
   "id": "f50bc045-9fc5-42f0-b81d-825646a20189",
   "metadata": {},
   "outputs": [
    {
     "name": "stdout",
     "output_type": "stream",
     "text": [
      "Yes\n"
     ]
    }
   ],
   "source": [
    "# Python program to check\n",
    "# if a string is palindrome\n",
    "# or not\n",
    "st = 'malayalam'\n",
    "j = -1\n",
    "flag = 0\n",
    "for i in st:\n",
    "\tif i != st[j]:\n",
    "\t\tflag = 1\n",
    "\t\tbreak\n",
    "\tj = j - 1\n",
    "if flag == 1:\n",
    "\tprint(\"NO\")\n",
    "else:\n",
    "\tprint(\"Yes\")"
   ]
  },
  {
   "cell_type": "markdown",
   "id": "00e6d591-d428-47cc-a094-f27898e70f85",
   "metadata": {},
   "source": [
    "41. Write a Python program to find the smallest missing positive integer in a list."
   ]
  },
  {
   "cell_type": "code",
   "execution_count": 39,
   "id": "56d1021d-d382-4132-9469-53f69097874f",
   "metadata": {},
   "outputs": [
    {
     "name": "stdout",
     "output_type": "stream",
     "text": [
      "1\n"
     ]
    }
   ],
   "source": [
    "# Python3 program for the above approach\n",
    "\n",
    "# Function for finding the first missing\n",
    "# positive number\n",
    "def firstMissingPositive(arr, n):\n",
    "\n",
    "\tptr = 0\n",
    "\n",
    "\t# Check if 1 is present in array or not\n",
    "\tfor i in range(n):\n",
    "\t\tif arr[i] == 1:\n",
    "\t\t\tptr = 1\n",
    "\t\t\tbreak\n",
    "\n",
    "\t# If 1 is not present\n",
    "\tif ptr == 0:\n",
    "\t\treturn(1)\n",
    "\n",
    "\t# Changing values to 1\n",
    "\tfor i in range(n):\n",
    "\t\tif arr[i] <= 0 or arr[i] > n:\n",
    "\t\t\tarr[i] = 1\n",
    "\n",
    "\t# Updating indices according to values\n",
    "\tfor i in range(n):\n",
    "\t\tarr[(arr[i] - 1) % n] += n\n",
    "\n",
    "\t# Finding which index has value less than n\n",
    "\tfor i in range(n):\n",
    "\t\tif arr[i] <= n:\n",
    "\t\t\treturn(i + 1)\n",
    "\n",
    "\t# If array has values from 1 to n\n",
    "\treturn(n + 1)\n",
    "\n",
    "# Driver Code\n",
    "if __name__ == '__main__':\n",
    "\t# Given array\n",
    "\tA = [0, 10, 2, -10, -20]\n",
    "\t\n",
    "\t# Size of the array\n",
    "\tN = len(A)\n",
    "\t\n",
    "\t# Function call\n",
    "\tprint(firstMissingPositive(A, N))"
   ]
  },
  {
   "cell_type": "markdown",
   "id": "fb848bc2-8482-4700-994c-2292d302daf1",
   "metadata": {},
   "source": [
    "42. Implement a function to find the longest palindrome substring in a given string.\n"
   ]
  },
  {
   "cell_type": "code",
   "execution_count": 42,
   "id": "37b9c549-bc78-4dae-acdd-6b95a8bf997a",
   "metadata": {},
   "outputs": [
    {
     "name": "stdout",
     "output_type": "stream",
     "text": [
      "Longest palindrome substring is: malayalam\n",
      "Length is: 9\n"
     ]
    }
   ],
   "source": [
    "def printSubStr(str, low, high):\n",
    "\tfor i in range(low, high + 1):\n",
    "\t\tprint(str[i], end=\"\")\n",
    "\n",
    "def longestPalSubstr(str):\n",
    "\n",
    "\t# Get length of input String\n",
    "\tn = len(str)\n",
    "\n",
    "\tmaxLength = 1\n",
    "\tstart = 0\n",
    "\n",
    "\tfor i in range(n):\n",
    "\t\tfor j in range(i, n):\n",
    "\t\t\tflag = 1\n",
    "\n",
    "\t\t\t# Check palindrome\n",
    "\t\t\tfor k in range(0, ((j - i) // 2) + 1):\n",
    "\t\t\t\tif (str[i + k] != str[j - k]):\n",
    "\t\t\t\t\tflag = 0\n",
    "\n",
    "\t\t\t# Palindrome\n",
    "\t\t\tif (flag != 0 and (j - i + 1) > maxLength):\n",
    "\t\t\t\tstart = i\n",
    "\t\t\t\tmaxLength = j - i + 1\n",
    "\n",
    "\tprint(\"Longest palindrome substring is: \", end=\"\")\n",
    "\tprintSubStr(str, start, start + maxLength - 1)\n",
    "\n",
    "\t# Return length of LPS\n",
    "\treturn maxLength\n",
    "\n",
    "\n",
    "# Driver Code\n",
    "if __name__ == '__main__':\n",
    "\n",
    "\tstr = \"malayalam\"\n",
    "\tprint(\"\\nLength is:\", longestPalSubstr(str))\n"
   ]
  },
  {
   "cell_type": "markdown",
   "id": "72a5ccdb-e289-48f3-8711-8d51819a9f85",
   "metadata": {},
   "source": [
    "43. Write a program to find the number of occurrences of a given element in a list.\n"
   ]
  },
  {
   "cell_type": "code",
   "execution_count": 43,
   "id": "974a7a77-0436-434b-b8e7-12c63dd34d99",
   "metadata": {},
   "outputs": [
    {
     "name": "stdout",
     "output_type": "stream",
     "text": [
      "8 has occurred 5 times\n"
     ]
    }
   ],
   "source": [
    "# Python code to count the number of occurrences\n",
    "def countX(lst, x):\n",
    "\tcount = 0\n",
    "\tfor ele in lst:\n",
    "\t\tif (ele == x):\n",
    "\t\t\tcount = count + 1\n",
    "\treturn count\n",
    "\n",
    "\n",
    "# Driver Code\n",
    "lst = [8, 6, 8, 10, 8, 20, 10, 8, 8]\n",
    "x = 8\n",
    "print('{} has occurred {} times'.format(x,countX(lst, x)))\n"
   ]
  },
  {
   "cell_type": "markdown",
   "id": "5c0425e4-42a8-466f-8623-194c99149698",
   "metadata": {},
   "source": [
    "44. Implement a function to check if a given number is a perfect number.\n"
   ]
  },
  {
   "cell_type": "code",
   "execution_count": 45,
   "id": "10d890b4-cd72-4f57-adb1-c6d343e4420a",
   "metadata": {},
   "outputs": [
    {
     "name": "stdout",
     "output_type": "stream",
     "text": [
      "True\n"
     ]
    }
   ],
   "source": [
    "def isPerfect( n ):\n",
    "\t\n",
    "\t# To store sum of divisors\n",
    "\tsum = 1\n",
    "\t\n",
    "\t# Find all divisors and add them\n",
    "\ti = 2\n",
    "\twhile i * i <= n:\n",
    "\t\tif n % i == 0:\n",
    "\t\t\tsum = sum + i + n/i\n",
    "\t\ti += 1\n",
    "\t\n",
    "\treturn (True if sum == n and n!=1 else False)\n",
    "\n",
    "# Driver program\n",
    "n = 496\n",
    "print(isPerfect(n))"
   ]
  },
  {
   "cell_type": "markdown",
   "id": "f8022f9b-33d3-4291-af6f-2133676ae94a",
   "metadata": {},
   "source": [
    "45. Write a Python program to remove all duplicates from a string.\n"
   ]
  },
  {
   "cell_type": "code",
   "execution_count": 47,
   "id": "35d247fd-e7d8-40c2-a38b-1bb5527e0d5d",
   "metadata": {},
   "outputs": [
    {
     "name": "stdout",
     "output_type": "stream",
     "text": [
      "orkegfs\n"
     ]
    }
   ],
   "source": [
    "def removeDuplicate(str, n):\n",
    "\ts = set()\n",
    "\t\n",
    "\t# Create a set using String characters\n",
    "\tfor i in str:\n",
    "\t\ts.add(i)\n",
    "\n",
    "\t# Print content of the set\n",
    "\tst = \"\"\n",
    "\tfor i in s:\n",
    "\t\tst = st+i\n",
    "\treturn st\n",
    "\n",
    "\n",
    "# Driver code\n",
    "str = \"datascience \"\n",
    "n = len(str)\n",
    "print(removeDuplicate(list(str), n))"
   ]
  },
  {
   "cell_type": "markdown",
   "id": "9c936202-b558-4627-86cd-eadd331f4803",
   "metadata": {},
   "source": [
    "46. Implement a function to find the first missing positive\n"
   ]
  },
  {
   "cell_type": "code",
   "execution_count": 46,
   "id": "70156a1a-a8a3-47c5-b847-24380f88c888",
   "metadata": {},
   "outputs": [
    {
     "name": "stdout",
     "output_type": "stream",
     "text": [
      "1\n"
     ]
    }
   ],
   "source": [
    "def solution(A): \n",
    "\n",
    "\tm = max(A)\n",
    "\tif m < 1:\n",
    "\n",
    "\t\t# In case all values in our array are negative\n",
    "\t\treturn 1\n",
    "\tif len(A) == 1:\n",
    "\n",
    "\t\t# If it contains only one element\n",
    "\t\treturn 2 if A[0] == 1 else 1\n",
    "\tl = [0] * m\n",
    "    \n",
    "\tfor i in range(len(A)):\n",
    "\t\tif A[i] > 0:\n",
    "\t\t\tif l[A[i] - 1] != 1:\n",
    "\t\t\t\tl[A[i] - 1] = 1\n",
    "                \n",
    "\tfor i in range(len(l)):\n",
    "\t\tif l[i] == 0:\n",
    "\t\t\treturn i + 1\n",
    "\treturn i + 2\n",
    "\n",
    "\n",
    "# Driver Code\n",
    "if __name__ == '__main__':\n",
    "\tarr = [0, 10, 2, -10, -20]\n",
    "\tprint(solution(arr))"
   ]
  }
 ],
 "metadata": {
  "kernelspec": {
   "display_name": "Python 3 (ipykernel)",
   "language": "python",
   "name": "python3"
  },
  "language_info": {
   "codemirror_mode": {
    "name": "ipython",
    "version": 3
   },
   "file_extension": ".py",
   "mimetype": "text/x-python",
   "name": "python",
   "nbconvert_exporter": "python",
   "pygments_lexer": "ipython3",
   "version": "3.10.8"
  }
 },
 "nbformat": 4,
 "nbformat_minor": 5
}
